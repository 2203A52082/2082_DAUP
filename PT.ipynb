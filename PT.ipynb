{
  "nbformat": 4,
  "nbformat_minor": 0,
  "metadata": {
    "colab": {
      "provenance": [],
      "authorship_tag": "ABX9TyNcU5UAK18o7mSzCBQwEdxg",
      "include_colab_link": true
    },
    "kernelspec": {
      "name": "python3",
      "display_name": "Python 3"
    },
    "language_info": {
      "name": "python"
    }
  },
  "cells": [
    {
      "cell_type": "markdown",
      "metadata": {
        "id": "view-in-github",
        "colab_type": "text"
      },
      "source": [
        "<a href=\"https://colab.research.google.com/github/2203A52082/2082_DAUP/blob/main/PT.ipynb\" target=\"_parent\"><img src=\"https://colab.research.google.com/assets/colab-badge.svg\" alt=\"Open In Colab\"/></a>"
      ]
    },
    {
      "cell_type": "markdown",
      "source": [
        "# DAY 1"
      ],
      "metadata": {
        "id": "AeAjZ2LoKbJo"
      }
    },
    {
      "cell_type": "code",
      "source": [
        "def is_prime(a):\n",
        "  count=0\n",
        "  for i in range(1,a+1):\n",
        "      if(a%i==0):\n",
        "          count+=1\n",
        "  if(count==2):\n",
        "      if(a>200):\n",
        "          print(a,\" is a prime number and grater than 200.\")\n",
        "      else:\n",
        "          print(a,\" is a prime number and less than 200.\")\n",
        "  else:\n",
        "      print(a,\" is not a prime number.\")\n",
        "a=int(input(\"Enter a number: \"))\n",
        "is_prime(a)\n",
        "import timeit\n",
        "time = timeit.timeit(\"for I in range(1000): I*I\", number=1000)\n",
        "print(f\"Execution time: {time:.6f} seconds\")"
      ],
      "metadata": {
        "colab": {
          "base_uri": "https://localhost:8080/"
        },
        "id": "d0fpwGfLyQdN",
        "outputId": "e9dc5a58-9bd7-41e1-8ec3-cebb0a7c6f95"
      },
      "execution_count": null,
      "outputs": [
        {
          "output_type": "stream",
          "name": "stdout",
          "text": [
            "Enter a number: 211\n",
            "211  is a prime number and grater than 200.\n",
            "Execution time: 0.039333 seconds\n"
          ]
        }
      ]
    },
    {
      "cell_type": "code",
      "source": [
        "def remove_duplicates(input_list):\n",
        "    result = []\n",
        "    for item in input_list:\n",
        "        if item not in result:\n",
        "            result.append(item)\n",
        "    return result\n",
        "n = [8,2,3,4,3,3,4,5,6,7,9,2,4]\n",
        "un = remove_duplicates(n)\n",
        "print(\"Original list:\", n)\n",
        "print(\"List with duplicates removed (order preserved):\", un)\n",
        "import timeit\n",
        "time = timeit.timeit(\"for I in range(1000): I*I\", number=1000)\n",
        "print(f\"Execution time: {time:.6f} seconds\")"
      ],
      "metadata": {
        "colab": {
          "base_uri": "https://localhost:8080/"
        },
        "id": "-exqjN1o5K9y",
        "outputId": "0c619755-7612-4dee-d7df-27d8114f0f59"
      },
      "execution_count": null,
      "outputs": [
        {
          "output_type": "stream",
          "name": "stdout",
          "text": [
            "Original list: [8, 2, 3, 4, 3, 3, 4, 5, 6, 7, 9, 2, 4]\n",
            "List with duplicates removed (order preserved): [8, 2, 3, 4, 5, 6, 7, 9]\n",
            "Execution time: 0.039871 seconds\n"
          ]
        }
      ]
    },
    {
      "cell_type": "code",
      "source": [
        "c=(7^3)^7\n",
        "print(c)"
      ],
      "metadata": {
        "colab": {
          "base_uri": "https://localhost:8080/"
        },
        "id": "c91iBOAz7dxJ",
        "outputId": "6013c985-f771-4099-9b69-7d48a6855f2f"
      },
      "execution_count": null,
      "outputs": [
        {
          "output_type": "stream",
          "name": "stdout",
          "text": [
            "3\n"
          ]
        }
      ]
    },
    {
      "cell_type": "code",
      "source": [
        "a=int(input())\n",
        "for i in range(1,a+1):\n",
        "  print(i,end=\" \")\n",
        "  if (i<a):\n",
        "    print(\"+\",end=\" \")\n",
        "print()"
      ],
      "metadata": {
        "colab": {
          "base_uri": "https://localhost:8080/"
        },
        "id": "imrMISXRE6gZ",
        "outputId": "4ddf8bf0-5286-4a27-d6f6-994ecbe646f5"
      },
      "execution_count": null,
      "outputs": [
        {
          "output_type": "stream",
          "name": "stdout",
          "text": [
            "5\n",
            "1 + 2 + 3 + 4 + 5 \n"
          ]
        }
      ]
    },
    {
      "cell_type": "code",
      "source": [
        "a=int(input())\n",
        "sum=0\n",
        "for i in range (1,a+1):\n",
        "  sum+=i\n",
        "print(sum)"
      ],
      "metadata": {
        "colab": {
          "base_uri": "https://localhost:8080/"
        },
        "id": "Yaq4YLabHQiM",
        "outputId": "8a298b1b-ce16-4045-f9c0-877de30020e1"
      },
      "execution_count": null,
      "outputs": [
        {
          "output_type": "stream",
          "name": "stdout",
          "text": [
            "5\n",
            "15\n"
          ]
        }
      ]
    },
    {
      "cell_type": "code",
      "source": [
        "from collections import Counter\n",
        "\n",
        "lst = [2, 3, 4, 3, 2, 5, 5]\n",
        "count = Counter(lst)\n",
        "\n",
        "for num, freq in count.items():\n",
        "    if freq == 1:\n",
        "        print(num)"
      ],
      "metadata": {
        "colab": {
          "base_uri": "https://localhost:8080/"
        },
        "id": "fd3_XhALI8_H",
        "outputId": "c9b2d558-3c00-4d13-d9ba-7791640a45d0"
      },
      "execution_count": null,
      "outputs": [
        {
          "output_type": "stream",
          "name": "stdout",
          "text": [
            "4\n"
          ]
        }
      ]
    },
    {
      "cell_type": "markdown",
      "source": [
        "# DAY 2"
      ],
      "metadata": {
        "id": "s4OV2ofFwlUi"
      }
    },
    {
      "cell_type": "code",
      "source": [
        "a = 14>>3\n",
        "print(a)"
      ],
      "metadata": {
        "id": "olEWEVNgAgUZ",
        "colab": {
          "base_uri": "https://localhost:8080/"
        },
        "outputId": "9099a110-f89f-44d9-a27f-cacbea7b2eeb"
      },
      "execution_count": null,
      "outputs": [
        {
          "output_type": "stream",
          "name": "stdout",
          "text": [
            "1\n"
          ]
        }
      ]
    },
    {
      "cell_type": "code",
      "source": [
        "a=int(input())\n",
        "if(a&1==1):\n",
        "  print(\"odd\")\n",
        "else:\n",
        "  print(\"even\")"
      ],
      "metadata": {
        "colab": {
          "base_uri": "https://localhost:8080/"
        },
        "id": "ol8hECyN6qlE",
        "outputId": "d0cedb6f-744f-411e-ba6d-55a62a7ed8fa"
      },
      "execution_count": null,
      "outputs": [
        {
          "output_type": "stream",
          "name": "stdout",
          "text": [
            "7\n",
            "odd\n"
          ]
        }
      ]
    },
    {
      "cell_type": "code",
      "source": [
        "a = int(input())\n",
        "if (a // 2) * 2 == a:\n",
        "  print(\"even\")\n",
        "else:\n",
        "  print(\"odd\")\n"
      ],
      "metadata": {
        "colab": {
          "base_uri": "https://localhost:8080/"
        },
        "id": "4a5uqUV_8agT",
        "outputId": "21bae678-d779-4c86-851f-c1f3096c1a19"
      },
      "execution_count": null,
      "outputs": [
        {
          "output_type": "stream",
          "name": "stdout",
          "text": [
            "7\n",
            "odd\n"
          ]
        }
      ]
    },
    {
      "cell_type": "code",
      "source": [
        "a=int(input())\n",
        "if(a^1==a+1):\n",
        "  print(\"even\")\n",
        "else:\n",
        "  print(\"odd\")"
      ],
      "metadata": {
        "colab": {
          "base_uri": "https://localhost:8080/"
        },
        "id": "atmIYV2y_Dc-",
        "outputId": "34f5d458-2392-4c73-bf25-1610991f553d"
      },
      "execution_count": null,
      "outputs": [
        {
          "output_type": "stream",
          "name": "stdout",
          "text": [
            "5\n",
            "odd\n"
          ]
        }
      ]
    },
    {
      "cell_type": "code",
      "source": [
        "a=int(input())\n",
        "if(a^a-1==1):\n",
        "  print(\"odd\")\n",
        "else:\n",
        "  print(\"even\")"
      ],
      "metadata": {
        "colab": {
          "base_uri": "https://localhost:8080/"
        },
        "id": "Sgglw5TqBUsd",
        "outputId": "0956d84a-09b9-4273-eabd-96600850fa5b"
      },
      "execution_count": null,
      "outputs": [
        {
          "output_type": "stream",
          "name": "stdout",
          "text": [
            "4\n",
            "even\n"
          ]
        }
      ]
    },
    {
      "cell_type": "code",
      "source": [
        "a=int(input())\n",
        "s=0\n",
        "for i in range(1,a+1):\n",
        "  s=s^i\n",
        "print(s)"
      ],
      "metadata": {
        "colab": {
          "base_uri": "https://localhost:8080/"
        },
        "id": "vOhfjGz9Ei8B",
        "outputId": "c2db52cb-2782-449e-93a9-10a13a122554"
      },
      "execution_count": null,
      "outputs": [
        {
          "output_type": "stream",
          "name": "stdout",
          "text": [
            "10\n",
            "11\n"
          ]
        }
      ]
    },
    {
      "cell_type": "code",
      "source": [
        "a=int(input())\n",
        "if(a%4==0):\n",
        "  print(a)\n",
        "elif(a%4==1):\n",
        "  print(\"1\")\n",
        "elif(a%4==2):\n",
        "  print(a+1)\n",
        "else:\n",
        "  print(\"0\")\n"
      ],
      "metadata": {
        "colab": {
          "base_uri": "https://localhost:8080/"
        },
        "id": "4NGfWBWxBqCj",
        "outputId": "6b23fd64-38ec-4a96-884d-e98b8bc631e3"
      },
      "execution_count": null,
      "outputs": [
        {
          "output_type": "stream",
          "name": "stdout",
          "text": [
            "98\n",
            "99\n"
          ]
        }
      ]
    },
    {
      "cell_type": "code",
      "source": [
        "a=int(input())\n",
        "b=int(input())\n",
        "s=0\n",
        "for i in range(a,b+1):\n",
        "  s=s^i1\n",
        "\n",
        "print(s)"
      ],
      "metadata": {
        "colab": {
          "base_uri": "https://localhost:8080/"
        },
        "id": "I6nXIN8lGcZf",
        "outputId": "d89b362f-4a01-4676-8426-8f04eed26dc0"
      },
      "execution_count": null,
      "outputs": [
        {
          "output_type": "stream",
          "name": "stdout",
          "text": [
            "9\n",
            "19\n",
            "8\n"
          ]
        }
      ]
    },
    {
      "cell_type": "code",
      "source": [
        "def xor(b):\n",
        "    if b%4==1:\n",
        "     return 1\n",
        "    elif b%4==2:\n",
        "     return b+1\n",
        "    elif b%4==3:\n",
        "     return 0\n",
        "    else:\n",
        "     return b\n",
        "a=int(input())\n",
        "b=int(input())\n",
        "print(xor(a-1)^xor(b))"
      ],
      "metadata": {
        "colab": {
          "base_uri": "https://localhost:8080/"
        },
        "id": "Tz5BYejfKOaD",
        "outputId": "07dae330-6920-4dd3-9016-bfa5a9a2445b"
      },
      "execution_count": null,
      "outputs": [
        {
          "output_type": "stream",
          "name": "stdout",
          "text": [
            "9\n",
            "19\n",
            "8\n"
          ]
        }
      ]
    },
    {
      "cell_type": "code",
      "source": [
        "a = int(input())\n",
        "def is_power_of_two(a):\n",
        "    if a <= 0:\n",
        "        return \"no\"\n",
        "    while a != 1:\n",
        "        if a % 2 != 0:\n",
        "            return \"no\"\n",
        "        a = a // 2\n",
        "    return \"yes\"\n",
        "print(is_power_of_two(a))"
      ],
      "metadata": {
        "colab": {
          "base_uri": "https://localhost:8080/"
        },
        "id": "eP8rf9hcT5mw",
        "outputId": "a13a6a62-acf2-448b-9a43-02d9b23db94c"
      },
      "execution_count": null,
      "outputs": [
        {
          "output_type": "stream",
          "name": "stdout",
          "text": [
            "14\n",
            "no\n"
          ]
        }
      ]
    },
    {
      "cell_type": "code",
      "source": [
        "a=int(input())\n",
        "if(a&(a-1)==0):\n",
        "  print(\"yes\")\n",
        "else:\n",
        "  print(\"no\")"
      ],
      "metadata": {
        "colab": {
          "base_uri": "https://localhost:8080/"
        },
        "id": "TJDxObkyS0ip",
        "outputId": "7b1dc806-449c-4380-f22c-6b8a97a1f692"
      },
      "execution_count": null,
      "outputs": [
        {
          "output_type": "stream",
          "name": "stdout",
          "text": [
            "14\n",
            "no\n"
          ]
        }
      ]
    },
    {
      "cell_type": "code",
      "source": [
        "print(6^3)"
      ],
      "metadata": {
        "colab": {
          "base_uri": "https://localhost:8080/"
        },
        "id": "GBgItOJ2Xcsm",
        "outputId": "fa04f389-5364-445a-8e95-acb9ff400dac"
      },
      "execution_count": null,
      "outputs": [
        {
          "output_type": "stream",
          "name": "stdout",
          "text": [
            "5\n"
          ]
        }
      ]
    },
    {
      "cell_type": "code",
      "source": [
        "a=[2,2,3,3,4,4,5,6,6,7,7,8,8]\n",
        "i=0\n",
        "while(i<=len(a)):\n",
        "  if(a[i]==a[i+1]):\n",
        "    i=i+2\n",
        "  else:\n",
        "    print(a[i])\n",
        "    break"
      ],
      "metadata": {
        "colab": {
          "base_uri": "https://localhost:8080/"
        },
        "id": "sPY1Wyj0tndy",
        "outputId": "8aa8cd8e-376e-499f-dbb0-8e32d9ebefe2"
      },
      "execution_count": null,
      "outputs": [
        {
          "output_type": "stream",
          "name": "stdout",
          "text": [
            "5\n"
          ]
        }
      ]
    },
    {
      "cell_type": "code",
      "source": [
        "def sorted(a):\n",
        "    for i in range(0,len(a)-1,2):\n",
        "        if a[i]!=a[i+1]:\n",
        "            return a[i]\n",
        "            break\n",
        "    else:\n",
        "      return a[-1]\n",
        "a=[2,2,3,3,4,4,6,6,7,7,8,8,9]\n",
        "print(sorted(a))"
      ],
      "metadata": {
        "colab": {
          "base_uri": "https://localhost:8080/"
        },
        "id": "FssYCyRFx6Zn",
        "outputId": "c87c6b4c-6adc-4d75-c503-9d51109db02b"
      },
      "execution_count": null,
      "outputs": [
        {
          "output_type": "stream",
          "name": "stdout",
          "text": [
            "9\n"
          ]
        }
      ]
    },
    {
      "cell_type": "code",
      "source": [
        "def subsequence(arr):\n",
        "    l=len(arr)\n",
        "    c=1\n",
        "    maxc=1\n",
        "    for i in range(1,l):\n",
        "        if arr[i-1]+1==arr[i]:\n",
        "            c+=1\n",
        "        else:\n",
        "            if c>maxc:\n",
        "                maxc=c\n",
        "                c=1\n",
        "    if c>maxc:\n",
        "                maxc=c\n",
        "                c=1\n",
        "    return maxc\n",
        "arr=[1,2,3,2,3,4,5,6,7,8,9]\n",
        "print(subsequence(arr))"
      ],
      "metadata": {
        "colab": {
          "base_uri": "https://localhost:8080/"
        },
        "id": "Tdrb2NYW88PS",
        "outputId": "6b6b086c-8747-474b-95e2-7fbbb83da9b9"
      },
      "execution_count": null,
      "outputs": [
        {
          "output_type": "stream",
          "name": "stdout",
          "text": [
            "8\n"
          ]
        }
      ]
    },
    {
      "cell_type": "code",
      "source": [
        "a=[1,2,3,2,3,4,5,6,7,8,9]\n",
        "c=1\n",
        "max=0\n",
        "for i in range(len(a)-1):\n",
        "  if(a[i]+1==a[i+1]):\n",
        "    c=c+1\n",
        "  else:\n",
        "    if(c>max):\n",
        "      max=c\n",
        "    c=1\n",
        "if(c>max):\n",
        "  max=c\n",
        "print(max)"
      ],
      "metadata": {
        "colab": {
          "base_uri": "https://localhost:8080/"
        },
        "id": "kP2HQ72A9dXB",
        "outputId": "786b2569-dc1e-4547-be3e-3d2abd6e6fdb"
      },
      "execution_count": null,
      "outputs": [
        {
          "output_type": "stream",
          "name": "stdout",
          "text": [
            "8\n"
          ]
        }
      ]
    },
    {
      "cell_type": "code",
      "source": [
        "a=\"aaabbaaaaacdffe\"\n",
        "c=1\n",
        "s=''\n",
        "for i in range(len(a)-1):\n",
        "    if(a[i]==a[i+1]):\n",
        "        c=c+1\n",
        "    else:\n",
        "        s=s+a[i]+str(c)\n",
        "        c=1\n",
        "s=s+a[-1]+str(c)\n",
        "print(s)"
      ],
      "metadata": {
        "colab": {
          "base_uri": "https://localhost:8080/"
        },
        "id": "66fpHscPItTs",
        "outputId": "c2a54395-cd6f-4785-c8ba-0e12ebaa2576"
      },
      "execution_count": null,
      "outputs": [
        {
          "output_type": "stream",
          "name": "stdout",
          "text": [
            "a3b2a5c1d1f2e1\n"
          ]
        }
      ]
    },
    {
      "cell_type": "markdown",
      "source": [
        "# DAY 3"
      ],
      "metadata": {
        "id": "YUpEvDMo5SB0"
      }
    },
    {
      "cell_type": "code",
      "source": [
        "def even_sum(a,i,sum):\n",
        "  if(i==len(a)):\n",
        "    return sum\n",
        "  if(a[i]%2==0):\n",
        "    sum=sum+a[i]\n",
        "    even_sum(a,i+1,sum)\n",
        "  return even_sum(a,i+1,sum)\n",
        "a=[2,5,6,7,2,1,4,3,6]\n",
        "sum=0\n",
        "print(even_sum(a,0,sum))"
      ],
      "metadata": {
        "id": "r19gYjBjI99U",
        "colab": {
          "base_uri": "https://localhost:8080/"
        },
        "outputId": "74db2aaf-3ed0-4775-c5e6-2fef574f7579"
      },
      "execution_count": 23,
      "outputs": [
        {
          "output_type": "stream",
          "name": "stdout",
          "text": [
            "20\n"
          ]
        }
      ]
    },
    {
      "cell_type": "code",
      "source": [
        "def even_sum(a,i):\n",
        "  if(i==len(a)):\n",
        "    return 0\n",
        "  if(a[i]%2==0):\n",
        "    return a[i]+even_sum(a,i+1)\n",
        "  return even_sum(a,i+1)\n",
        "a=[2,5,6,7,2,1,4,3,6]\n",
        "print(even_sum(a,0))"
      ],
      "metadata": {
        "colab": {
          "base_uri": "https://localhost:8080/"
        },
        "id": "XnAhf5ajddNt",
        "outputId": "309a33c3-472d-4435-9c9b-530777ef3472"
      },
      "execution_count": 24,
      "outputs": [
        {
          "output_type": "stream",
          "name": "stdout",
          "text": [
            "20\n"
          ]
        }
      ]
    },
    {
      "cell_type": "code",
      "source": [
        "n=int(input())\n",
        "re=0\n",
        "while(n!=0):\n",
        "  b=n%10\n",
        "  re=re*10+b\n",
        "  n=n//10\n",
        "print(re)"
      ],
      "metadata": {
        "colab": {
          "base_uri": "https://localhost:8080/"
        },
        "id": "9Hqcge1ddxiU",
        "outputId": "b461e311-2d23-4c5b-c3c0-aec35d22aa99"
      },
      "execution_count": 25,
      "outputs": [
        {
          "output_type": "stream",
          "name": "stdout",
          "text": [
            "123\n",
            "321\n"
          ]
        }
      ]
    },
    {
      "cell_type": "code",
      "source": [
        "def rev(n,re=0):\n",
        "  if(n!=0):\n",
        "    b=n%10\n",
        "    re=re*10+b\n",
        "    n=n//10\n",
        "    return rev(n,re)\n",
        "  else:\n",
        "    return re\n",
        "print(rev(54227))"
      ],
      "metadata": {
        "colab": {
          "base_uri": "https://localhost:8080/"
        },
        "id": "2hJGi4ejef0g",
        "outputId": "783372b2-0dc6-48d6-cab0-f9f76060a5af"
      },
      "execution_count": 4,
      "outputs": [
        {
          "output_type": "stream",
          "name": "stdout",
          "text": [
            "72245\n"
          ]
        }
      ]
    },
    {
      "cell_type": "code",
      "source": [
        "def rev(n,re=0):\n",
        "  if(n!=0):\n",
        "    return rev(n//10,re*10+(n%10))\n",
        "  else:\n",
        "    return re\n",
        "print(rev(54227))"
      ],
      "metadata": {
        "colab": {
          "base_uri": "https://localhost:8080/"
        },
        "id": "dLV5NKZcipy4",
        "outputId": "f0b6c3b6-c3f2-4ad0-a9c8-4c63b7d2d4e3"
      },
      "execution_count": 5,
      "outputs": [
        {
          "output_type": "stream",
          "name": "stdout",
          "text": [
            "72245\n"
          ]
        }
      ]
    },
    {
      "cell_type": "code",
      "source": [
        "n=13\n",
        "for i in range(2,(n//2)+1):\n",
        "  if(n%i==0):\n",
        "    print(n,\"is not a prime\")\n",
        "    break\n",
        "else:\n",
        "  print(n,\"is a prime number\")"
      ],
      "metadata": {
        "colab": {
          "base_uri": "https://localhost:8080/"
        },
        "id": "nR4GQLm-jIKI",
        "outputId": "6dc7dce8-0a68-4db4-c242-e67de1663e08"
      },
      "execution_count": 8,
      "outputs": [
        {
          "output_type": "stream",
          "name": "stdout",
          "text": [
            "13 is a prime number\n"
          ]
        }
      ]
    },
    {
      "cell_type": "code",
      "source": [
        "def pr(a,i,count):\n",
        "  if(i==len(a)):\n",
        "    return count\n",
        "  else:\n",
        "    b=a[i]\n",
        "    def pri(b,count):\n",
        "      if(b%i==0):\n",
        "        count=count+1\n",
        "      return pri(b//2+1,count)\n",
        "    return pr(a,i+1,count)\n",
        "a=[13,17,21,23,22,7,29]\n",
        "print(pr(a,0,0))"
      ],
      "metadata": {
        "colab": {
          "base_uri": "https://localhost:8080/"
        },
        "id": "ntBgu6EpjqTD",
        "outputId": "dee1e180-da25-42b1-8895-4da67ecf78b1"
      },
      "execution_count": 16,
      "outputs": [
        {
          "output_type": "stream",
          "name": "stdout",
          "text": [
            "0\n"
          ]
        }
      ]
    },
    {
      "cell_type": "code",
      "source": [
        "def is_prime(n, i=2):\n",
        "  if n <= 2:\n",
        "    return n == 2\n",
        "  if n % i == 0:\n",
        "    return False\n",
        "  if i * i > n:\n",
        "    return True\n",
        "  return is_prime(n, i + 1)\n",
        "\n",
        "def count_primes_recursive(nu, ind=0, count=0):\n",
        "  if ind == len(nu):\n",
        "    return count\n",
        "  if is_prime(nu[ind]):\n",
        "    return count_primes_recursive(nu, ind + 1, count + 1)\n",
        "  else:\n",
        "    return count_primes_recursive(nu, ind + 1, count)\n",
        "nu=[13,17,21,23,22,7,29]\n",
        "count_primes_recursive(nu)"
      ],
      "metadata": {
        "colab": {
          "base_uri": "https://localhost:8080/"
        },
        "id": "Ar796lkX934T",
        "outputId": "2db13546-673a-4818-9a33-8bd5f4e5b555"
      },
      "execution_count": 23,
      "outputs": [
        {
          "output_type": "execute_result",
          "data": {
            "text/plain": [
              "5"
            ]
          },
          "metadata": {},
          "execution_count": 23
        }
      ]
    },
    {
      "cell_type": "code",
      "source": [
        "def solve(n,a,b):\n",
        "    if n == 1:\n",
        "        return True\n",
        "    if n < 1:\n",
        "        return False\n",
        "    return solve(n-a,a,b) or solve(n-b,a,b)\n",
        "n = 20\n",
        "a=3\n",
        "b=5\n",
        "print(solve(n,a,b))"
      ],
      "metadata": {
        "colab": {
          "base_uri": "https://localhost:8080/"
        },
        "id": "Y2-KSLBt93nh",
        "outputId": "1a8fb378-5a2c-4238-9d49-f7a4ca3ce298"
      },
      "execution_count": 32,
      "outputs": [
        {
          "output_type": "stream",
          "name": "stdout",
          "text": [
            "True\n"
          ]
        }
      ]
    },
    {
      "cell_type": "code",
      "source": [
        "def solve(n, a, b):\n",
        "    if n == 1:\n",
        "        return 0\n",
        "    if n < 1:\n",
        "        return float('inf')\n",
        "    steps_a = solve(n - a, a, b)\n",
        "    steps_b = solve(n - b, a, b)\n",
        "    return min(steps_a, steps_b) + 1\n",
        "\n",
        "n = 20\n",
        "a = 3\n",
        "b = 5\n",
        "min_steps = solve(n, a, b)\n",
        "if min_steps == float('inf'):\n",
        "    print(\"not possible\")\n",
        "else:\n",
        "    print(\"Minimum steps : \", min_steps)"
      ],
      "metadata": {
        "colab": {
          "base_uri": "https://localhost:8080/"
        },
        "id": "sn3d33YqEkaC",
        "outputId": "dce79ffe-1636-4c99-9e18-4632d522841c"
      },
      "execution_count": 46,
      "outputs": [
        {
          "output_type": "stream",
          "name": "stdout",
          "text": [
            "Minimum steps :  5\n"
          ]
        }
      ]
    }
  ]
}